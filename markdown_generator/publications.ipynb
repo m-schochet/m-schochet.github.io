{
 "cells": [
  {
   "cell_type": "markdown",
   "metadata": {
    "deletable": true,
    "editable": true
   },
   "source": [
    "# Publications markdown generator for academicpages\n",
    "\n",
    "Takes a TSV of publications with metadata and converts them for use with [academicpages.github.io](academicpages.github.io). This is an interactive Jupyter notebook ([see more info here](http://jupyter-notebook-beginner-guide.readthedocs.io/en/latest/what_is_jupyter.html)). The core python code is also in `publications.py`. Run either from the `markdown_generator` folder after replacing `publications.tsv` with one containing your data.\n",
    "\n",
    "TODO: Make this work with BibTex and other databases of citations, rather than Stuart's non-standard TSV format and citation style.\n"
   ]
  },
  {
   "cell_type": "markdown",
   "metadata": {},
   "source": [
    "## Data format\n",
    "\n",
    "The TSV needs to have the following columns: pub_date, title, venue, excerpt, citation, site_url, and paper_url, with a header at the top. \n",
    "\n",
    "- `excerpt` and `paper_url` can be blank, but the others must have values. \n",
    "- `pub_date` must be formatted as YYYY-MM-DD.\n",
    "- `url_slug` will be the descriptive part of the .md file and the permalink URL for the page about the paper. The .md file will be `YYYY-MM-DD-[url_slug].md` and the permalink will be `https://[yourdomain]/publications/YYYY-MM-DD-[url_slug]`\n",
    "\n",
    "This is how the raw file looks (it doesn't look pretty, use a spreadsheet or other program to edit and create)."
   ]
  },
  {
   "cell_type": "code",
   "execution_count": 21,
   "metadata": {
    "collapsed": false
   },
   "outputs": [
    {
     "name": "stdout",
     "output_type": "stream",
     "text": [
      "pub_date\ttitle\tvenue\texcerpt\tcitation\turl_slug\tpaper_url\tslides_url\n",
      "2024-06-01\tA Lack of Mass-gap Compact Object Binaries in APOGEE\tResearch Notes of the American Astronomical Society  Meir Schochet et al 2024 Res. Notes AAS 8 166 3.\tDepending principally on mass, the compact object remnant left behind after a star’s life may be a white dwarf (WD), neutron star (NS), or black hole (BH). While we have large samples of each of these remnants, we lack knowledge of the exact conditions separating these outcomes. The boundary between low-mass BHs and massive NSs is particularly poorly understood, as few objects between 2-5 M⊙ are known. To probe this regime, we search the APOGEE DR17 dataset of 657,000 unique stars for binary systems with one stellar component that exhibit large radial velocity shifts over multiple observations. We identify 4751 likely binary systems, and estimate a minimum mass for each system’s “invisible companion” under the assumption of tidal synchronization. Two systems have companion masses ≳ 2 M⊙, although we conclude that neither are good candidates for possessing a mass-gap NS or BH companions.\tMeir Schochet et al 2024 Res. Notes AAS 8 166\t a-lack-of-mass-gap-COs-in-APOGEE\thttps://m-schochet.github.io/files/10.3847/2515-5172/ad5964.pdf\t"
     ]
    }
   ],
   "source": [
    "!cat publications.tsv"
   ]
  },
  {
   "cell_type": "markdown",
   "metadata": {},
   "source": [
    "## Import pandas\n",
    "\n",
    "We are using the very handy pandas library for dataframes."
   ]
  },
  {
   "cell_type": "code",
   "execution_count": 29,
   "metadata": {
    "collapsed": true,
    "deletable": true,
    "editable": true
   },
   "outputs": [],
   "source": [
    "import pandas as pd"
   ]
  },
  {
   "cell_type": "markdown",
   "metadata": {},
   "source": [
    "## Import TSV\n",
    "\n",
    "Pandas makes this easy with the read_csv function. We are using a TSV, so we specify the separator as a tab, or `\\t`.\n",
    "\n",
    "I found it important to put this data in a tab-separated values format, because there are a lot of commas in this kind of data and comma-separated values can get messed up. However, you can modify the import statement, as pandas also has read_excel(), read_json(), and others."
   ]
  },
  {
   "cell_type": "code",
   "execution_count": 30,
   "metadata": {
    "collapsed": false,
    "deletable": true,
    "editable": true
   },
   "outputs": [
    {
     "data": {
      "text/html": [
       "<div>\n",
       "<style scoped>\n",
       "    .dataframe tbody tr th:only-of-type {\n",
       "        vertical-align: middle;\n",
       "    }\n",
       "\n",
       "    .dataframe tbody tr th {\n",
       "        vertical-align: top;\n",
       "    }\n",
       "\n",
       "    .dataframe thead th {\n",
       "        text-align: right;\n",
       "    }\n",
       "</style>\n",
       "<table border=\"1\" class=\"dataframe\">\n",
       "  <thead>\n",
       "    <tr style=\"text-align: right;\">\n",
       "      <th></th>\n",
       "      <th>pub_date</th>\n",
       "      <th>title</th>\n",
       "      <th>venue</th>\n",
       "      <th>excerpt</th>\n",
       "      <th>citation</th>\n",
       "      <th>url_slug</th>\n",
       "      <th>paper_url</th>\n",
       "      <th>slides_url</th>\n",
       "    </tr>\n",
       "  </thead>\n",
       "  <tbody>\n",
       "    <tr>\n",
       "      <th>0</th>\n",
       "      <td>2024-06-01</td>\n",
       "      <td>A Lack of Mass-gap Compact Object Binaries in ...</td>\n",
       "      <td>Research Notes of the American Astronomical So...</td>\n",
       "      <td>Depending principally on mass, the compact obj...</td>\n",
       "      <td>Meir Schochet et al 2024 Res. Notes AAS 8 166</td>\n",
       "      <td>a-lack-of-mass-gap-COs-in-APOGEE</td>\n",
       "      <td>https://m-schochet.github.io/files/10.3847/251...</td>\n",
       "      <td>NaN</td>\n",
       "    </tr>\n",
       "  </tbody>\n",
       "</table>\n",
       "</div>"
      ],
      "text/plain": [
       "     pub_date                                              title  \\\n",
       "0  2024-06-01  A Lack of Mass-gap Compact Object Binaries in ...   \n",
       "\n",
       "                                               venue  \\\n",
       "0  Research Notes of the American Astronomical So...   \n",
       "\n",
       "                                             excerpt  \\\n",
       "0  Depending principally on mass, the compact obj...   \n",
       "\n",
       "                                        citation  \\\n",
       "0  Meir Schochet et al 2024 Res. Notes AAS 8 166   \n",
       "\n",
       "                           url_slug  \\\n",
       "0  a-lack-of-mass-gap-COs-in-APOGEE   \n",
       "\n",
       "                                           paper_url  slides_url  \n",
       "0  https://m-schochet.github.io/files/10.3847/251...         NaN  "
      ]
     },
     "execution_count": 30,
     "metadata": {},
     "output_type": "execute_result"
    }
   ],
   "source": [
    "publications = pd.read_csv(\"publications.tsv\", sep=\"\\t\", header=0)\n",
    "publications\n"
   ]
  },
  {
   "cell_type": "markdown",
   "metadata": {},
   "source": [
    "## Escape special characters\n",
    "\n",
    "YAML is very picky about how it takes a valid string, so we are replacing single and double quotes (and ampersands) with their HTML encoded equivilents. This makes them look not so readable in raw format, but they are parsed and rendered nicely."
   ]
  },
  {
   "cell_type": "code",
   "execution_count": 31,
   "metadata": {
    "collapsed": true,
    "deletable": true,
    "editable": true
   },
   "outputs": [],
   "source": [
    "html_escape_table = {\n",
    "    \"&\": \"&amp;\",\n",
    "    '\"': \"&quot;\",\n",
    "    \"'\": \"&apos;\"\n",
    "    }\n",
    "\n",
    "def html_escape(text):\n",
    "    \"\"\"Produce entities within text.\"\"\"\n",
    "    return \"\".join(html_escape_table.get(c,c) for c in text)"
   ]
  },
  {
   "cell_type": "markdown",
   "metadata": {},
   "source": [
    "## Creating the markdown files\n",
    "\n",
    "This is where the heavy lifting is done. This loops through all the rows in the TSV dataframe, then starts to concatentate a big string (```md```) that contains the markdown for each type. It does the YAML metadata first, then does the description for the individual page."
   ]
  },
  {
   "cell_type": "code",
   "execution_count": 32,
   "metadata": {
    "collapsed": false,
    "deletable": true,
    "editable": true
   },
   "outputs": [],
   "source": [
    "import os\n",
    "for row, item in publications.iterrows():\n",
    "    \n",
    "    md_filename = str(item.pub_date) + \"-\" + item.url_slug + \".md\"\n",
    "    html_filename = str(item.pub_date) + \"-\" + item.url_slug\n",
    "    year = item.pub_date[:4]\n",
    "    \n",
    "    ## YAML variables\n",
    "    \n",
    "    md = \"---\\ntitle: \\\"\"   + item.title + '\"\\n'\n",
    "    \n",
    "    md += \"\"\"collection: publications\"\"\"\n",
    "    \n",
    "    md += \"\"\"\\npermalink: /publication/\"\"\" + html_filename\n",
    "    \n",
    "    if len(str(item.excerpt)) > 5:\n",
    "        md += \"\\nexcerpt: '\" + html_escape(item.excerpt) + \"'\"\n",
    "    \n",
    "    md += \"\\ndate: \" + str(item.pub_date) \n",
    "    \n",
    "    md += \"\\nvenue: '\" + html_escape(item.venue) + \"'\"\n",
    "    \n",
    "    if len(str(item.slides_url)) > 5:\n",
    "        md += \"\\nslidesurl: '\" + item.slides_url + \"'\"\n",
    "\n",
    "    if len(str(item.paper_url)) > 5:\n",
    "        md += \"\\npaperurl: '\" + item.paper_url + \"'\"\n",
    "    \n",
    "    md += \"\\ncitation: '\" + html_escape(item.citation) + \"'\"\n",
    "    \n",
    "    md += \"\\n---\"\n",
    "    \n",
    "    ## Markdown description for individual page\n",
    "        \n",
    "    if len(str(item.excerpt)) > 5:\n",
    "        md += \"\\n\" + html_escape(item.excerpt) + \"\\n\"\n",
    "\n",
    "    if len(str(item.slides_url)) > 5:\n",
    "        md += \"\\n[Download slides here](\" + item.slides_url + \")\\n\" \n",
    "\n",
    "    if len(str(item.paper_url)) > 5:\n",
    "        md += \"\\n[Download paper here](\" + item.paper_url + \")\\n\" \n",
    "        \n",
    "    md += \"\\nRecommended citation: \" + item.citation\n",
    "    \n",
    "    md_filename = os.path.basename(md_filename)\n",
    "       \n",
    "    with open(\"../_publications/\" + md_filename, 'w') as f:\n",
    "        f.write(md)"
   ]
  },
  {
   "cell_type": "markdown",
   "metadata": {},
   "source": [
    "These files are in the publications directory, one directory below where we're working from."
   ]
  },
  {
   "cell_type": "code",
   "execution_count": 33,
   "metadata": {
    "collapsed": false,
    "deletable": true,
    "editable": true
   },
   "outputs": [
    {
     "name": "stdout",
     "output_type": "stream",
     "text": [
      "2024-06-01-a-lack-of-mass-gap-COs-in-APOGEE.md\n"
     ]
    }
   ],
   "source": [
    "!ls ../_publications/"
   ]
  },
  {
   "cell_type": "code",
   "execution_count": 34,
   "metadata": {},
   "outputs": [
    {
     "name": "stdout",
     "output_type": "stream",
     "text": [
      "../_publications/2024-06-01-a-lack-of-mass-gap-COs-in-APOGEE.md\n"
     ]
    }
   ],
   "source": [
    "!ls ../_publications/2024-06-01-a-lack-of-mass-gap-COs-in-APOGEE.md"
   ]
  },
  {
   "cell_type": "code",
   "execution_count": 36,
   "metadata": {
    "collapsed": false,
    "deletable": true,
    "editable": true
   },
   "outputs": [
    {
     "name": "stdout",
     "output_type": "stream",
     "text": [
      "---\n",
      "title: \"A Lack of Mass-gap Compact Object Binaries in APOGEE\"\n",
      "collection: publications\n",
      "permalink: /publication/2024-06-01-a-lack-of-mass-gap-COs-in-APOGEE\n",
      "excerpt: 'Depending principally on mass, the compact object remnant left behind after a star’s life may be a white dwarf (WD), neutron star (NS), or black hole (BH). While we have large samples of each of these remnants, we lack knowledge of the exact conditions separating these outcomes. The boundary between low-mass BHs and massive NSs is particularly poorly understood, as few objects between 2-5 M⊙ are known. To probe this regime, we search the APOGEE DR17 dataset of 657,000 unique stars for binary systems with one stellar component that exhibit large radial velocity shifts over multiple observations. We identify 4751 likely binary systems, and estimate a minimum mass for each system’s “invisible companion” under the assumption of tidal synchronization. Two systems have companion masses ≳ 2 M⊙, although we conclude that neither are good candidates for possessing a mass-gap NS or BH companions.'\n",
      "date: 2024-06-01\n",
      "venue: 'Research Notes of the American Astronomical Society  Meir Schochet et al 2024 Res. Notes AAS 8 166 3.'\n",
      "paperurl: 'https://m-schochet.github.io/files/10.3847/2515-5172/ad5964.pdf'\n",
      "citation: 'Meir Schochet et al 2024 Res. Notes AAS 8 166'\n",
      "---\n",
      "Depending principally on mass, the compact object remnant left behind after a star’s life may be a white dwarf (WD), neutron star (NS), or black hole (BH). While we have large samples of each of these remnants, we lack knowledge of the exact conditions separating these outcomes. The boundary between low-mass BHs and massive NSs is particularly poorly understood, as few objects between 2-5 M⊙ are known. To probe this regime, we search the APOGEE DR17 dataset of 657,000 unique stars for binary systems with one stellar component that exhibit large radial velocity shifts over multiple observations. We identify 4751 likely binary systems, and estimate a minimum mass for each system’s “invisible companion” under the assumption of tidal synchronization. Two systems have companion masses ≳ 2 M⊙, although we conclude that neither are good candidates for possessing a mass-gap NS or BH companions.\n",
      "\n",
      "[Download paper here](https://m-schochet.github.io/files/10.3847/2515-5172/ad5964.pdf)\n",
      "\n",
      "Recommended citation: Meir Schochet et al 2024 Res. Notes AAS 8 166"
     ]
    }
   ],
   "source": [
    "!cat ../_publications/2024-06-01-a-lack-of-mass-gap-COs-in-APOGEE.md"
   ]
  }
 ],
 "metadata": {
  "kernelspec": {
   "display_name": "asassncnn",
   "language": "python",
   "name": "python3"
  },
  "language_info": {
   "codemirror_mode": {
    "name": "ipython",
    "version": 3
   },
   "file_extension": ".py",
   "mimetype": "text/x-python",
   "name": "python",
   "nbconvert_exporter": "python",
   "pygments_lexer": "ipython3",
   "version": "3.13.5"
  }
 },
 "nbformat": 4,
 "nbformat_minor": 0
}
